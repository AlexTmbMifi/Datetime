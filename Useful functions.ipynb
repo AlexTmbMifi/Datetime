{
 "cells": [
  {
   "cell_type": "markdown",
   "metadata": {},
   "source": [
    "\n",
    "Let's discuss some $\\underline{useful}$ functions to operate date and time type objects."
   ]
  },
  {
   "cell_type": "markdown",
   "metadata": {},
   "source": [
    "$\\textbf{Attributes year, month and day} $ "
   ]
  },
  {
   "cell_type": "markdown",
   "metadata": {},
   "source": [
    "Thanks to them, it is really possible to get year, month and day from yours date"
   ]
  },
  {
   "cell_type": "code",
   "execution_count": 1,
   "metadata": {},
   "outputs": [
    {
     "name": "stdout",
     "output_type": "stream",
     "text": [
      "2001 11 16\n"
     ]
    }
   ],
   "source": [
    "from datetime import date # import module date to interact with this type\n",
    "\n",
    "date1 = date(2001,11,16) \n",
    "\n",
    "print(date1.year, date1.month, date1.day)"
   ]
  },
  {
   "cell_type": "markdown",
   "metadata": {},
   "source": [
    "However, there are some unexpectable errors which are connected with range of day, month or year."
   ]
  },
  {
   "cell_type": "code",
   "execution_count": 2,
   "metadata": {},
   "outputs": [
    {
     "ename": "ValueError",
     "evalue": "day is out of range for month",
     "output_type": "error",
     "traceback": [
      "\u001b[1;31m---------------------------------------------------------------------------\u001b[0m",
      "\u001b[1;31mValueError\u001b[0m                                Traceback (most recent call last)",
      "Cell \u001b[1;32mIn[2], line 3\u001b[0m\n\u001b[0;32m      1\u001b[0m \u001b[38;5;28;01mfrom\u001b[39;00m \u001b[38;5;21;01mdatetime\u001b[39;00m \u001b[38;5;28;01mimport\u001b[39;00m date \u001b[38;5;66;03m# import module date to interact with this type\u001b[39;00m\n\u001b[1;32m----> 3\u001b[0m date1 \u001b[38;5;241m=\u001b[39m \u001b[43mdate\u001b[49m\u001b[43m(\u001b[49m\u001b[38;5;241;43m2001\u001b[39;49m\u001b[43m,\u001b[49m\u001b[38;5;241;43m11\u001b[39;49m\u001b[43m,\u001b[49m\u001b[38;5;241;43m31\u001b[39;49m\u001b[43m)\u001b[49m \n\u001b[0;32m      5\u001b[0m \u001b[38;5;28mprint\u001b[39m(date1\u001b[38;5;241m.\u001b[39myear, date1\u001b[38;5;241m.\u001b[39mmonth, date1\u001b[38;5;241m.\u001b[39mday)\n",
      "\u001b[1;31mValueError\u001b[0m: day is out of range for month"
     ]
    }
   ],
   "source": [
    "from datetime import date # import module date to interact with this type\n",
    "\n",
    "date1 = date(2001,11,31) \n",
    "\n",
    "print(date1.year, date1.month, date1.day)"
   ]
  },
  {
   "cell_type": "markdown",
   "metadata": {},
   "source": [
    "Month cannot be more than 12 and less than 1, year - from 0 to 9999. What about day? It seems more complex problem , but we can check how many days in current month by means monthrange() from import calendar."
   ]
  }
 ],
 "metadata": {
  "kernelspec": {
   "display_name": "Python 3",
   "language": "python",
   "name": "python3"
  },
  "language_info": {
   "codemirror_mode": {
    "name": "ipython",
    "version": 3
   },
   "file_extension": ".py",
   "mimetype": "text/x-python",
   "name": "python",
   "nbconvert_exporter": "python",
   "pygments_lexer": "ipython3",
   "version": "3.10.6"
  }
 },
 "nbformat": 4,
 "nbformat_minor": 2
}
